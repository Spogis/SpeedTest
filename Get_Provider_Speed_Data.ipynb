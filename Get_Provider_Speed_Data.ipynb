{
 "cells": [
  {
   "cell_type": "code",
   "execution_count": 1,
   "id": "06957d6a",
   "metadata": {
    "colab": {
     "base_uri": "https://localhost:8080/"
    },
    "id": "06957d6a",
    "outputId": "e3fbab77-8948-4395-8829-26b2d5763f8b"
   },
   "outputs": [],
   "source": [
    "#pip install speedtest-cli"
   ]
  },
  {
   "cell_type": "code",
   "execution_count": 2,
   "id": "3c185041",
   "metadata": {
    "id": "3c185041"
   },
   "outputs": [],
   "source": [
    "import speedtest  \n",
    "import time\n",
    "from openpyxl import load_workbook\n",
    "from datetime import datetime"
   ]
  },
  {
   "cell_type": "code",
   "execution_count": 3,
   "id": "547077bf",
   "metadata": {
    "id": "547077bf"
   },
   "outputs": [],
   "source": [
    "speedtester = speedtest.Speedtest()"
   ]
  },
  {
   "cell_type": "code",
   "execution_count": 4,
   "id": "18c02706",
   "metadata": {
    "id": "18c02706"
   },
   "outputs": [],
   "source": [
    "SleepTime = 10 #Minutes \n",
    "TotalTime = 24 #Hours"
   ]
  },
  {
   "cell_type": "code",
   "execution_count": 5,
   "id": "f264ee80",
   "metadata": {
    "id": "f264ee80"
   },
   "outputs": [],
   "source": [
    "NumberOfData = int(TotalTime*60/SleepTime)"
   ]
  },
  {
   "cell_type": "markdown",
   "id": "cb5289e5",
   "metadata": {
    "id": "cfMwspz_QmAK"
   },
   "source": [
    "from openpyxl import load_workbook\n",
    "from openpyxl import Workbook\n",
    "wb = Workbook()\n",
    "ws = wb.active\n",
    "ws.title = 'Sheet1'\n",
    "\n",
    "ws = wb['Sheet1']\n",
    "ws.append([\"Date\", \"SpeedPing\", \"SpeedDownload\", \"SpeedUpload\"])\n",
    "wb.save(filename=\"SpeedTestData.xlsx\")\n",
    "wb.close()"
   ]
  },
  {
   "cell_type": "code",
   "execution_count": 6,
   "id": "7dd732ad",
   "metadata": {
    "id": "7dd732ad"
   },
   "outputs": [],
   "source": [
    "# Start by opening the spreadsheet and selecting the main sheet\n",
    "workbook = load_workbook(filename=\"SpeedTestData.xlsx\")\n",
    "sheet = workbook.active"
   ]
  },
  {
   "cell_type": "code",
   "execution_count": 7,
   "id": "281efe61",
   "metadata": {
    "id": "281efe61"
   },
   "outputs": [],
   "source": [
    "def get_final_speed():\n",
    "    speedtester.get_best_server()\n",
    "    SpeedDownload = speedtester.download() / 1e+6\n",
    "    SpeedDownload = round(SpeedDownload,2)\n",
    "    \n",
    "    SpeedUpload = speedtester.upload() / 1e+6\n",
    "    SpeedUpload = round(SpeedUpload, 2)\n",
    "    \n",
    "    SpeedPing = round(speedtester.results.ping, 1)\n",
    "    return [SpeedPing, SpeedDownload, SpeedUpload];"
   ]
  },
  {
   "cell_type": "code",
   "execution_count": null,
   "id": "fa463a77",
   "metadata": {
    "colab": {
     "base_uri": "https://localhost:8080/",
     "height": 217
    },
    "id": "fa463a77",
    "outputId": "d13c977a-11c3-4b3f-b5db-935fab82d92d"
   },
   "outputs": [
    {
     "name": "stdout",
     "output_type": "stream",
     "text": [
      "Time 2023-02-01 20:50:01 SpeedTest [16.8, 257.76, 144.26]\n",
      "Time 2023-02-01 21:00:50 SpeedTest [12.1, 306.86, 147.87]\n",
      "Time 2023-02-01 21:11:09 SpeedTest [15.2, 285.74, 163.8]\n",
      "Time 2023-02-01 21:21:27 SpeedTest [9.6, 118.25, 172.39]\n",
      "Time 2023-02-01 21:31:46 SpeedTest [10.9, 278.08, 166.59]\n",
      "Time 2023-02-01 21:42:04 SpeedTest [12.2, 131.01, 174.16]\n",
      "Time 2023-02-01 21:52:23 SpeedTest [12.4, 83.58, 165.95]\n",
      "Time 2023-02-01 22:02:42 SpeedTest [12.8, 295.67, 165.36]\n",
      "Time 2023-02-01 22:13:00 SpeedTest [12.4, 121.99, 178.33]\n",
      "Time 2023-02-01 22:23:18 SpeedTest [10.6, 129.57, 158.8]\n",
      "Time 2023-02-01 22:33:38 SpeedTest [18.2, 161.72, 154.46]\n",
      "Time 2023-02-01 22:43:57 SpeedTest [10.4, 192.46, 145.0]\n",
      "Time 2023-02-01 22:54:16 SpeedTest [10.0, 174.48, 155.04]\n",
      "Time 2023-02-01 23:04:34 SpeedTest [10.3, 189.91, 180.27]\n",
      "Time 2023-02-01 23:14:52 SpeedTest [11.8, 181.11, 180.84]\n",
      "Time 2023-02-01 23:25:09 SpeedTest [9.8, 185.94, 180.72]\n",
      "Time 2023-02-01 23:35:27 SpeedTest [14.1, 176.84, 181.03]\n",
      "Time 2023-02-01 23:45:45 SpeedTest [9.5, 180.03, 172.9]\n",
      "Time 2023-02-01 23:56:04 SpeedTest [9.8, 190.49, 167.27]\n",
      "Time 2023-02-02 00:06:22 SpeedTest [11.0, 189.06, 173.15]\n",
      "Time 2023-02-02 00:16:44 SpeedTest [12.7, 90.92, 73.84]\n",
      "Time 2023-02-02 00:27:02 SpeedTest [11.5, 178.51, 172.62]\n",
      "Time 2023-02-02 00:37:20 SpeedTest [16.5, 288.55, 174.48]\n",
      "Time 2023-02-02 00:47:38 SpeedTest [11.7, 174.24, 165.49]\n",
      "Time 2023-02-02 00:57:56 SpeedTest [11.5, 183.38, 176.24]\n",
      "Time 2023-02-02 01:08:15 SpeedTest [10.1, 180.42, 169.21]\n",
      "Time 2023-02-02 01:18:33 SpeedTest [11.5, 283.79, 165.53]\n",
      "Time 2023-02-02 01:28:51 SpeedTest [11.7, 189.72, 177.35]\n",
      "Time 2023-02-02 01:39:09 SpeedTest [14.8, 184.6, 182.1]\n",
      "Time 2023-02-02 01:49:27 SpeedTest [9.8, 191.4, 185.16]\n",
      "Time 2023-02-02 01:59:45 SpeedTest [12.4, 282.21, 175.5]\n",
      "Time 2023-02-02 02:10:02 SpeedTest [12.5, 178.3, 178.31]\n",
      "Time 2023-02-02 02:20:20 SpeedTest [10.2, 182.88, 182.88]\n",
      "Time 2023-02-02 02:30:38 SpeedTest [12.8, 185.2, 180.1]\n",
      "Time 2023-02-02 02:40:56 SpeedTest [13.5, 288.08, 163.35]\n",
      "Time 2023-02-02 02:51:15 SpeedTest [12.3, 172.78, 170.55]\n",
      "Time 2023-02-02 03:01:37 SpeedTest [14.2, 84.44, 33.5]\n",
      "Time 2023-02-02 03:11:54 SpeedTest [11.3, 168.49, 189.69]\n",
      "Time 2023-02-02 03:22:12 SpeedTest [11.8, 178.04, 178.61]\n",
      "Time 2023-02-02 03:32:30 SpeedTest [10.1, 187.63, 182.42]\n",
      "Time 2023-02-02 03:42:48 SpeedTest [18.0, 192.98, 180.83]\n",
      "Time 2023-02-02 03:53:06 SpeedTest [10.5, 185.47, 174.51]\n",
      "Time 2023-02-02 04:03:24 SpeedTest [10.9, 172.22, 171.73]\n",
      "Time 2023-02-02 04:13:43 SpeedTest [12.7, 284.51, 164.58]\n",
      "Time 2023-02-02 04:24:00 SpeedTest [11.9, 182.29, 188.91]\n",
      "Time 2023-02-02 04:34:18 SpeedTest [12.4, 178.4, 181.59]\n",
      "Time 2023-02-02 04:44:36 SpeedTest [15.5, 184.81, 178.6]\n",
      "Time 2023-02-02 04:54:55 SpeedTest [12.5, 178.53, 165.16]\n",
      "Time 2023-02-02 05:05:13 SpeedTest [11.5, 182.5, 176.88]\n",
      "Time 2023-02-02 05:15:30 SpeedTest [11.7, 173.97, 177.63]\n",
      "Time 2023-02-02 05:25:49 SpeedTest [13.2, 293.88, 172.37]\n",
      "Time 2023-02-02 05:36:06 SpeedTest [11.4, 183.03, 178.16]\n",
      "Time 2023-02-02 05:46:25 SpeedTest [17.8, 172.08, 170.04]\n",
      "Time 2023-02-02 05:56:43 SpeedTest [11.5, 99.62, 181.28]\n",
      "Time 2023-02-02 06:07:04 SpeedTest [10.0, 117.96, 67.3]\n",
      "Time 2023-02-02 06:17:23 SpeedTest [11.3, 175.92, 168.61]\n",
      "Time 2023-02-02 06:27:40 SpeedTest [12.8, 182.38, 183.09]\n",
      "Time 2023-02-02 06:37:58 SpeedTest [10.1, 183.57, 175.29]\n",
      "Time 2023-02-02 06:48:17 SpeedTest [14.4, 269.62, 168.53]\n",
      "Time 2023-02-02 06:58:35 SpeedTest [18.0, 182.62, 179.26]\n",
      "Time 2023-02-02 07:08:53 SpeedTest [12.5, 182.97, 177.94]\n",
      "Time 2023-02-02 07:19:17 SpeedTest [10.1, 145.42, 27.74]\n",
      "Time 2023-02-02 07:29:34 SpeedTest [9.5, 176.55, 189.47]\n",
      "Time 2023-02-02 07:39:55 SpeedTest [12.6, 82.8, 50.81]\n",
      "Time 2023-02-02 07:50:16 SpeedTest [12.1, 156.21, 61.01]\n",
      "Time 2023-02-02 08:00:35 SpeedTest [12.8, 273.11, 164.96]\n",
      "Time 2023-02-02 08:10:53 SpeedTest [11.3, 169.1, 178.23]\n",
      "Time 2023-02-02 08:21:12 SpeedTest [10.8, 248.59, 147.63]\n",
      "Time 2023-02-02 08:31:32 SpeedTest [12.0, 154.54, 134.52]\n",
      "Time 2023-02-02 08:42:23 SpeedTest [11.8, 168.41, 120.6]\n",
      "Time 2023-02-02 08:52:42 SpeedTest [14.8, 170.67, 155.05]\n",
      "Time 2023-02-02 09:03:01 SpeedTest [13.2, 180.05, 157.91]\n",
      "Time 2023-02-02 09:13:22 SpeedTest [10.3, 164.78, 121.52]\n",
      "Time 2023-02-02 09:23:41 SpeedTest [10.4, 179.93, 166.58]\n"
     ]
    }
   ],
   "source": [
    "for i in range(NumberOfData):\n",
    "    x=get_final_speed()\n",
    "    rows = sheet.max_row\n",
    "    print(\"Time %s SpeedTest %s\" % (datetime.now().strftime('%Y-%m-%d %H:%M:%S'), x))\n",
    "    sheet.cell(row=rows+1, column=1).value = datetime.now()\n",
    "    sheet.cell(row=rows+1, column=2).value =x[0]\n",
    "    sheet.cell(row=rows+1, column=3).value =x[1]\n",
    "    sheet.cell(row=rows+1, column=4).value =x[2]\n",
    "    workbook.save(filename=\"SpeedTestData.xlsx\")\n",
    "    time.sleep(SleepTime*60)"
   ]
  }
 ],
 "metadata": {
  "colab": {
   "provenance": []
  },
  "hide_input": false,
  "kernelspec": {
   "display_name": "Python 3 (ipykernel)",
   "language": "python",
   "name": "python3"
  },
  "language_info": {
   "codemirror_mode": {
    "name": "ipython",
    "version": 3
   },
   "file_extension": ".py",
   "mimetype": "text/x-python",
   "name": "python",
   "nbconvert_exporter": "python",
   "pygments_lexer": "ipython3",
   "version": "3.8.15"
  }
 },
 "nbformat": 4,
 "nbformat_minor": 5
}
